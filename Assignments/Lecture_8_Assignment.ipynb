{
 "cells": [
  {
   "cell_type": "code",
   "execution_count": 3,
   "id": "a6002c43-aef8-4dcc-8a46-9784593705ee",
   "metadata": {},
   "outputs": [
    {
     "name": "stdout",
     "output_type": "stream",
     "text": [
      "Decision Tree Classification Report:\n",
      "              precision    recall  f1-score   support\n",
      "\n",
      "        high       1.00      0.85      0.92        20\n",
      "         low       1.00      1.00      1.00         6\n",
      "      medium       0.84      1.00      0.91        16\n",
      "\n",
      "    accuracy                           0.93        42\n",
      "   macro avg       0.95      0.95      0.94        42\n",
      "weighted avg       0.94      0.93      0.93        42\n",
      "\n",
      "Decision Tree Confusion Matrix:\n",
      "[[17  0  3]\n",
      " [ 0  6  0]\n",
      " [ 0  0 16]]\n"
     ]
    }
   ],
   "source": [
    "import pandas as pd\n",
    "from sklearn.model_selection import train_test_split\n",
    "from sklearn.tree import DecisionTreeClassifier\n",
    "from sklearn.metrics import classification_report, confusion_matrix\n",
    "\n",
    "# Load the dataset\n",
    "df = pd.read_csv('dataset.csv')\n",
    "\n",
    "# Define price ranges\n",
    "# For example, let's divide prices into three categories: low, medium, and high\n",
    "price_bins = [0, 20, 40, float('inf')]\n",
    "price_labels = ['low', 'medium', 'high']\n",
    "\n",
    "# Create a new categorical target variable based on price ranges\n",
    "df['price_category'] = pd.cut(df['Y house price of unit area'], bins=price_bins, labels=price_labels)\n",
    "\n",
    "# Split the data into features and the new categorical target variable\n",
    "X = df.drop(['Y house price of unit area', 'price_category'], axis=1)\n",
    "y = df['price_category']\n",
    "\n",
    "# Split the data into training set and test set\n",
    "X_train, X_test, y_train, y_test = train_test_split(X, y, test_size=0.1, random_state=42)\n",
    "\n",
    "# Create and train the decision tree classifier\n",
    "dt_classifier = DecisionTreeClassifier(random_state=42)\n",
    "dt_classifier.fit(X_train, y_train)\n",
    "\n",
    "# Make predictions on the test set\n",
    "y_pred = dt_classifier.predict(X_test)\n",
    "\n",
    "# Evaluate the classifier\n",
    "print(\"Decision Tree Classification Report:\")\n",
    "print(classification_report(y_test, y_pred))\n",
    "\n",
    "print(\"Decision Tree Confusion Matrix:\")\n",
    "print(confusion_matrix(y_test, y_pred))\n"
   ]
  },
  {
   "cell_type": "code",
   "execution_count": null,
   "id": "eaa6af0f-2d19-49ba-8b88-3bb404f416fb",
   "metadata": {},
   "outputs": [],
   "source": []
  }
 ],
 "metadata": {
  "kernelspec": {
   "display_name": "Python 3 (ipykernel)",
   "language": "python",
   "name": "python3"
  },
  "language_info": {
   "codemirror_mode": {
    "name": "ipython",
    "version": 3
   },
   "file_extension": ".py",
   "mimetype": "text/x-python",
   "name": "python",
   "nbconvert_exporter": "python",
   "pygments_lexer": "ipython3",
   "version": "3.9.1"
  }
 },
 "nbformat": 4,
 "nbformat_minor": 5
}
